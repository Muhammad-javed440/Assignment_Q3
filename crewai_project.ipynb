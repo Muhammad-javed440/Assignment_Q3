{
  "nbformat": 4,
  "nbformat_minor": 0,
  "metadata": {
    "colab": {
      "provenance": [],
      "authorship_tag": "ABX9TyPtzdWNow9pcPnA4NEMZIJH",
      "include_colab_link": true
    },
    "kernelspec": {
      "name": "python3",
      "display_name": "Python 3"
    },
    "language_info": {
      "name": "python"
    }
  },
  "cells": [
    {
      "cell_type": "markdown",
      "metadata": {
        "id": "view-in-github",
        "colab_type": "text"
      },
      "source": [
        "<a href=\"https://colab.research.google.com/github/Muhammad-javed440/Assignment_Q3/blob/main/crewai_project.ipynb\" target=\"_parent\"><img src=\"https://colab.research.google.com/assets/colab-badge.svg\" alt=\"Open In Colab\"/></a>"
      ]
    },
    {
      "cell_type": "code",
      "execution_count": 9,
      "metadata": {
        "id": "ftIw2gVmrzRS"
      },
      "outputs": [],
      "source": [
        "import os\n",
        "\n",
        "from google.colab import userdata\n",
        "\n",
        "os.environ['GEMINI_API_KEY'] = userdata.get('GEMINI_API_KEY')\n",
        "os.environ['OPENAI_API_KEY'] = userdata.get('OPENAI_API_KEY')"
      ]
    },
    {
      "cell_type": "code",
      "source": [
        "!pip install -Uq crewai crewai-tools"
      ],
      "metadata": {
        "id": "z4say4BPssKs"
      },
      "execution_count": 10,
      "outputs": []
    },
    {
      "cell_type": "code",
      "source": [
        "import nest_asyncio   # it is used to run crewai async function at backend\n",
        "nest_asyncio.apply()"
      ],
      "metadata": {
        "id": "_P9-kW7Ss6YQ"
      },
      "execution_count": 11,
      "outputs": []
    },
    {
      "cell_type": "code",
      "source": [
        "from crewai.flow import Flow, start, listen\n",
        "\n",
        "class MyFlow(Flow):\n",
        "\n",
        "  @start()\n",
        "  def function1(self):\n",
        "    print('step 1')\n",
        "\n",
        "  @listen(function1)\n",
        "  def function2(self):\n",
        "    print('step 2')\n",
        "\n",
        "obj = MyFlow()\n",
        "obj.kickoff()"
      ],
      "metadata": {
        "colab": {
          "base_uri": "https://localhost:8080/"
        },
        "id": "rNJszjk7t1FO",
        "outputId": "f8f307f1-3fd6-45c5-c4e0-a725439a0a57"
      },
      "execution_count": 12,
      "outputs": [
        {
          "output_type": "stream",
          "name": "stdout",
          "text": [
            "\u001b[1m\u001b[35m Flow started with ID: 071564b1-35cd-44e1-b132-eed7d691bd75\u001b[00m\n",
            "step 1\n",
            "step 2\n"
          ]
        }
      ]
    },
    {
      "cell_type": "code",
      "source": [
        "from crewai import LLM\n",
        "\n",
        "llm1 = LLM(\n",
        "    model = \"gemini/gemini-2.0-flash\",\n",
        ")\n",
        "\n",
        "llm1.call(\"what is the capital of Pakistan?\")"
      ],
      "metadata": {
        "colab": {
          "base_uri": "https://localhost:8080/",
          "height": 35
        },
        "id": "vJ6Yqu8KxmOP",
        "outputId": "30850026-39ca-4562-fc55-bc9a281561ea"
      },
      "execution_count": 13,
      "outputs": [
        {
          "output_type": "execute_result",
          "data": {
            "text/plain": [
              "'The capital of Pakistan is **Islamabad**.\\n'"
            ],
            "application/vnd.google.colaboratory.intrinsic+json": {
              "type": "string"
            }
          },
          "metadata": {},
          "execution_count": 13
        }
      ]
    },
    {
      "cell_type": "code",
      "source": [
        "google_embedder={\n",
        "    \"provider\": \"google\",\n",
        "    \"config\":{\n",
        "        \"model\":\"models/text-embedding-004\",\n",
        "        \"api_key\": userdata.get(\"GEMINI_API_KEY\"),\n",
        "    }\n",
        "}"
      ],
      "metadata": {
        "id": "X54u1MHqBrGo"
      },
      "execution_count": 14,
      "outputs": []
    },
    {
      "cell_type": "code",
      "source": [
        "from crewai import Agent, Task, Crew, Process, LLM\n",
        "from crewai.knowledge.source.string_knowledge_source import StringKnowledgeSource\n",
        "\n",
        "# create an knowledge source\n",
        "content = \"User name is Muhammad Javed. He is 45 years old and live in Lahore,Pakistan. He is working as Chief Data Scientist at CancerClarity LLC\"\n",
        "string_source = StringKnowledgeSource(\n",
        "    content = content,\n",
        ")\n",
        "\n",
        "# Create an agent with the knowledge store\n",
        "agent = Agent(\n",
        "    role = \"Data Scientist\",\n",
        "    goal = \"You know every thing about the user.\",\n",
        "    backstory = \"\"\"You are master at understanding people and their perferences.\"\"\",\n",
        "    verbose = True,\n",
        "    alowed_delegation = False,\n",
        "    llm = llm1,\n",
        ")\n",
        "\n",
        "task = Task(\n",
        "    description=\"Answer the following questions about the user : {question}\",\n",
        "    expected_output = \"An answer to the question.\",\n",
        "    agent = agent,\n",
        ")\n",
        "\n",
        "crew = Crew(\n",
        "    memory=True,\n",
        "    agents=[agent],\n",
        "    tasks= [task],\n",
        "    verbose=True,\n",
        "    process=Process.sequential,\n",
        "    knowledge_sources = [string_source], # Enable the knowledge by adding the source here , You can also add more sources to the sources list.\n",
        "    embedder=google_embedder,\n",
        "    )\n",
        "result = crew.kickoff(inputs={\"question\": \"Where does Muhammad Javed live?\"})\n",
        "print(result)\n"
      ],
      "metadata": {
        "colab": {
          "base_uri": "https://localhost:8080/",
          "height": 208
        },
        "id": "fLH_iPu5yTlS",
        "outputId": "340509e0-675c-430b-8247-4113195bb308"
      },
      "execution_count": 17,
      "outputs": [
        {
          "output_type": "stream",
          "name": "stderr",
          "text": [
            "WARNING:opentelemetry.trace:Overriding of current TracerProvider is not allowed\n"
          ]
        },
        {
          "output_type": "stream",
          "name": "stdout",
          "text": [
            "\u001b[1m\u001b[95m# Agent:\u001b[00m \u001b[1m\u001b[92mData Scientist\u001b[00m\n",
            "\u001b[95m## Task:\u001b[00m \u001b[92mAnswer the following questions about the user : Where does Muhammad Javed live?\u001b[00m\n",
            "\n",
            "\n",
            "\u001b[1m\u001b[95m# Agent:\u001b[00m \u001b[1m\u001b[92mData Scientist\u001b[00m\n",
            "\u001b[95m## Final Answer:\u001b[00m \u001b[92m\n",
            "Muhammad Javed lives in Lahore, Pakistan.\u001b[00m\n",
            "\n",
            "\n",
            "Muhammad Javed lives in Lahore, Pakistan.\n"
          ]
        }
      ]
    }
  ]
}